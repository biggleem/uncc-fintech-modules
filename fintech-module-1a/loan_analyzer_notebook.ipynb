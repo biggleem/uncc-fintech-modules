{
 "cells": [
  {
   "cell_type": "code",
   "execution_count": 276,
   "source": [
    "loan_costs = [500, 600, 200, 1000, 450]\r\n",
    "a = len(loan_costs)\r\n",
    "print('How many loans are in the list:', a)"
   ],
   "outputs": [
    {
     "output_type": "stream",
     "name": "stdout",
     "text": [
      "How many loans are in the list: 5\n"
     ]
    }
   ],
   "metadata": {}
  },
  {
   "cell_type": "code",
   "execution_count": 277,
   "source": [
    "b = sum(loan_costs)\r\n",
    "print('What is the total of all loans:',b)"
   ],
   "outputs": [
    {
     "output_type": "stream",
     "name": "stdout",
     "text": [
      "What is the total of all loans: 2750\n"
     ]
    }
   ],
   "metadata": {}
  },
  {
   "cell_type": "code",
   "execution_count": 278,
   "source": [
    "c = sum(loan_costs)/len(loan_costs)\r\n",
    "print('What is the average loan amount:', c)"
   ],
   "outputs": [
    {
     "output_type": "stream",
     "name": "stdout",
     "text": [
      "What is the average loan amount: 550.0\n"
     ]
    }
   ],
   "metadata": {}
  },
  {
   "cell_type": "code",
   "execution_count": 279,
   "source": [
    "\r\n",
    "loan = {\r\n",
    "    \"loan_price\": 500,\r\n",
    "    \"remaining_months\": 9,\r\n",
    "    \"repayment_interval\": \"bullet\",\r\n",
    "    \"future_value\": 1000,\r\n",
    "\r\n",
    "}\r\n",
    "\r\n",
    "\r\n",
    "\r\n",
    " #a = \"loan_price\",loan.get(\"loan_price\")\r\n",
    "# print(loan_price)\r\n",
    "\r\n",
    "print(\"future_value\", loan.get(\"future_value\"))\r\n",
    "\r\n",
    "\r\n",
    "print(\"remaining_months\", loan.get(\"remaining_months\"))\r\n",
    "\r\n",
    "\r\n",
    "discount_rate = .20\r\n",
    "\r\n",
    "\r\n",
    "\r\n",
    "fair_value = loan.get(\"future_value\") / (1 + (discount_rate) / 12) ** loan.get(\"remaining_months\")\r\n",
    "print(fair_value)\r\n",
    "\r\n",
    "\r\n",
    "if fair_value >= loan.get(\"loan_price\"):\r\n",
    "    print(\"The loan is at least the cost to buyi it\")\r\n",
    "\r\n",
    "else:\r\n",
    "    print(\"The loan is too expensive and not worth the price\")\r\n",
    "\r\n",
    "new_loan = {\r\n",
    "    \"loan_price\": 800,\r\n",
    "    \"remaining_months\": 12,\r\n",
    "    \"repayment_interval\": \"bullet\",\r\n",
    "    \"future_value\": 1000,\r\n",
    "}\r\n",
    "# @TODO: Define a new function that will be used to calculate present value.\r\n",
    "\r\n",
    "#    This function should include parameters for `future_value`, `remaining_months`, and the `annual_discount_rate`\r\n",
    "\r\n",
    "def calc_present_value(future_value, remaining_months, annual_discount_rate):\r\n",
    "    present_value = future_value / (1 + annual_discount_rate / 12) ** remaining_months\r\n",
    "    return present_value\r\n",
    "#print(present_value)\r\n",
    "\r\n",
    "annual_discount_rate = 0.2\r\n",
    "\r\n",
    "present_value = calc_present_value(new_loan[\"future_value\"], new_loan[\"remaining_months\"], annual_discount_rate)\r\n",
    "print(present_value)\r\n",
    "\r\n"
   ],
   "outputs": [
    {
     "output_type": "stream",
     "name": "stdout",
     "text": [
      "future_value 1000\n",
      "remaining_months 9\n",
      "861.7727126032183\n",
      "The loan is at least the cost to buyi it\n",
      "820.0814425978174\n"
     ]
    }
   ],
   "metadata": {}
  },
  {
   "cell_type": "code",
   "execution_count": 280,
   "source": [
    "loans = [\r\n",
    "    {\r\n",
    "        \"loan_price\": 700,\r\n",
    "        \"remaining_months\": 9,\r\n",
    "        \"repayment_interval\": \"monthly\",\r\n",
    "        \"future_value\": 1000,\r\n",
    "    },\r\n",
    "    {\r\n",
    "        \"loan_price\": 500,\r\n",
    "        \"remaining_months\": 13,\r\n",
    "        \"repayment_interval\": \"bullet\",\r\n",
    "        \"future_value\": 1000,\r\n",
    "    },\r\n",
    "    {\r\n",
    "        \"loan_price\": 200,\r\n",
    "        \"remaining_months\": 16,\r\n",
    "        \"repayment_interval\": \"bullet\",\r\n",
    "        \"future_value\": 1000,\r\n",
    "    },\r\n",
    "    {\r\n",
    "        \"loan_price\": 900,\r\n",
    "        \"remaining_months\": 16,\r\n",
    "        \"repayment_interval\": \"bullet\",\r\n",
    "        \"future_value\": 1000,\r\n",
    "    },\r\n",
    "]\r\n",
    "\r\n",
    "inexpensive_loans = []\r\n",
    "for i in loans:\r\n",
    "    if i[\"loan_price\"] < 500:\r\n",
    "        inexpensive_loans.append(i)\r\n",
    "\r\n",
    "print(inexpensive_loans)\r\n",
    "\r\n",
    "\r\n"
   ],
   "outputs": [
    {
     "output_type": "stream",
     "name": "stdout",
     "text": [
      "[{'loan_price': 200, 'remaining_months': 16, 'repayment_interval': 'bullet', 'future_value': 1000}]\n"
     ]
    }
   ],
   "metadata": {}
  },
  {
   "cell_type": "markdown",
   "source": [
    "<!-- def calculate_present_value(future_value, remaining_months, annual_discount_rate):\r\n",
    "    present_value = future_value / (1 + annual_discount_rate / 12) ** remaining_months\r\n",
    "\r\n",
    "annual_discount_rate = 0.20\r\n",
    "\r\n",
    "present_value = calculate_present_value(loan[\"future_value\"], loan[\"remaining_months\"], annual_discount_rate)\r\n",
    "\r\n",
    "print(present_value) -->"
   ],
   "metadata": {}
  },
  {
   "cell_type": "code",
   "execution_count": null,
   "source": [],
   "outputs": [],
   "metadata": {}
  }
 ],
 "metadata": {
  "orig_nbformat": 4,
  "language_info": {
   "name": "python",
   "version": "3.7.10",
   "mimetype": "text/x-python",
   "codemirror_mode": {
    "name": "ipython",
    "version": 3
   },
   "pygments_lexer": "ipython3",
   "nbconvert_exporter": "python",
   "file_extension": ".py"
  },
  "kernelspec": {
   "name": "python3",
   "display_name": "Python 3.7.10 64-bit (conda)"
  },
  "interpreter": {
   "hash": "ad7e4c995aadfa94b68e7bf40503923999eb84a4bfaef5f29295dd290b93bd60"
  }
 },
 "nbformat": 4,
 "nbformat_minor": 2
}